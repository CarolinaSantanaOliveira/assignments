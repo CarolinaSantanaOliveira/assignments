{
 "cells": [
  {
   "cell_type": "markdown",
   "metadata": {},
   "source": [
    "#Libraries "
   ]
  },
  {
   "cell_type": "code",
   "execution_count": 49,
   "metadata": {
    "collapsed": true
   },
   "outputs": [],
   "source": [
    "# imports\n",
    "import pandas as pd\n",
    "import matplotlib.pyplot as plt\n",
    "\n",
    "# this allows plots to appear directly in the notebook\n",
    "%matplotlib inline\n",
    "\n",
    "# this is the standard import if you're using \"formula notation\" (similar to R)\n",
    "import statsmodels.formula.api as smf"
   ]
  },
  {
   "cell_type": "code",
   "execution_count": 42,
   "metadata": {
    "collapsed": false
   },
   "outputs": [],
   "source": [
    "data1 = pd.read_excel('/Users/Carolina/Desktop/MESTRADO/Applied Economic Analysis/python assignment/dados.xlsx')"
   ]
  },
  {
   "cell_type": "code",
   "execution_count": 43,
   "metadata": {
    "collapsed": true
   },
   "outputs": [],
   "source": [
    "#Creating dummies for each country. Austria works as the baseline country.\n",
    "country_dummies = pd.get_dummies(data1.Country, prefix='Country').iloc[:, 1:]"
   ]
  },
  {
   "cell_type": "code",
   "execution_count": 44,
   "metadata": {
    "collapsed": false
   },
   "outputs": [
    {
     "data": {
      "text/html": [
       "<div>\n",
       "<table border=\"1\" class=\"dataframe\">\n",
       "  <thead>\n",
       "    <tr style=\"text-align: right;\">\n",
       "      <th></th>\n",
       "      <th>Country</th>\n",
       "      <th>Female</th>\n",
       "      <th>Age</th>\n",
       "      <th>Years_of_education</th>\n",
       "      <th>Body_Mass_Index</th>\n",
       "      <th>Body_Mass_Index_categorized</th>\n",
       "      <th>Income_percentiles</th>\n",
       "      <th>Country_Belgium</th>\n",
       "      <th>Country_Denmark</th>\n",
       "      <th>Country_France</th>\n",
       "      <th>Country_Germany</th>\n",
       "      <th>Country_Greece</th>\n",
       "      <th>Country_Italy</th>\n",
       "      <th>Country_Netherlands</th>\n",
       "      <th>Country_Spain</th>\n",
       "      <th>Country_Sweden</th>\n",
       "      <th>Country_Switzerland</th>\n",
       "    </tr>\n",
       "  </thead>\n",
       "  <tbody>\n",
       "    <tr>\n",
       "      <th>0</th>\n",
       "      <td>Austria</td>\n",
       "      <td>1</td>\n",
       "      <td>51.7</td>\n",
       "      <td>3</td>\n",
       "      <td>30.46</td>\n",
       "      <td>4</td>\n",
       "      <td>6</td>\n",
       "      <td>0.0</td>\n",
       "      <td>0.0</td>\n",
       "      <td>0.0</td>\n",
       "      <td>0.0</td>\n",
       "      <td>0.0</td>\n",
       "      <td>0.0</td>\n",
       "      <td>0.0</td>\n",
       "      <td>0.0</td>\n",
       "      <td>0.0</td>\n",
       "      <td>0.0</td>\n",
       "    </tr>\n",
       "    <tr>\n",
       "      <th>1</th>\n",
       "      <td>Austria</td>\n",
       "      <td>0</td>\n",
       "      <td>58.8</td>\n",
       "      <td>8</td>\n",
       "      <td>28.08</td>\n",
       "      <td>3</td>\n",
       "      <td>1</td>\n",
       "      <td>0.0</td>\n",
       "      <td>0.0</td>\n",
       "      <td>0.0</td>\n",
       "      <td>0.0</td>\n",
       "      <td>0.0</td>\n",
       "      <td>0.0</td>\n",
       "      <td>0.0</td>\n",
       "      <td>0.0</td>\n",
       "      <td>0.0</td>\n",
       "      <td>0.0</td>\n",
       "    </tr>\n",
       "    <tr>\n",
       "      <th>2</th>\n",
       "      <td>Austria</td>\n",
       "      <td>1</td>\n",
       "      <td>73.5</td>\n",
       "      <td>10</td>\n",
       "      <td>30.04</td>\n",
       "      <td>4</td>\n",
       "      <td>3</td>\n",
       "      <td>0.0</td>\n",
       "      <td>0.0</td>\n",
       "      <td>0.0</td>\n",
       "      <td>0.0</td>\n",
       "      <td>0.0</td>\n",
       "      <td>0.0</td>\n",
       "      <td>0.0</td>\n",
       "      <td>0.0</td>\n",
       "      <td>0.0</td>\n",
       "      <td>0.0</td>\n",
       "    </tr>\n",
       "    <tr>\n",
       "      <th>3</th>\n",
       "      <td>Austria</td>\n",
       "      <td>0</td>\n",
       "      <td>56.4</td>\n",
       "      <td>8</td>\n",
       "      <td>25.05</td>\n",
       "      <td>3</td>\n",
       "      <td>6</td>\n",
       "      <td>0.0</td>\n",
       "      <td>0.0</td>\n",
       "      <td>0.0</td>\n",
       "      <td>0.0</td>\n",
       "      <td>0.0</td>\n",
       "      <td>0.0</td>\n",
       "      <td>0.0</td>\n",
       "      <td>0.0</td>\n",
       "      <td>0.0</td>\n",
       "      <td>0.0</td>\n",
       "    </tr>\n",
       "    <tr>\n",
       "      <th>4</th>\n",
       "      <td>Austria</td>\n",
       "      <td>1</td>\n",
       "      <td>53.1</td>\n",
       "      <td>8</td>\n",
       "      <td>30.71</td>\n",
       "      <td>4</td>\n",
       "      <td>6</td>\n",
       "      <td>0.0</td>\n",
       "      <td>0.0</td>\n",
       "      <td>0.0</td>\n",
       "      <td>0.0</td>\n",
       "      <td>0.0</td>\n",
       "      <td>0.0</td>\n",
       "      <td>0.0</td>\n",
       "      <td>0.0</td>\n",
       "      <td>0.0</td>\n",
       "      <td>0.0</td>\n",
       "    </tr>\n",
       "  </tbody>\n",
       "</table>\n",
       "</div>"
      ],
      "text/plain": [
       "   Country  Female   Age  Years_of_education  Body_Mass_Index  \\\n",
       "0  Austria       1  51.7                   3            30.46   \n",
       "1  Austria       0  58.8                   8            28.08   \n",
       "2  Austria       1  73.5                  10            30.04   \n",
       "3  Austria       0  56.4                   8            25.05   \n",
       "4  Austria       1  53.1                   8            30.71   \n",
       "\n",
       "   Body_Mass_Index_categorized  Income_percentiles  Country_Belgium  \\\n",
       "0                            4                   6              0.0   \n",
       "1                            3                   1              0.0   \n",
       "2                            4                   3              0.0   \n",
       "3                            3                   6              0.0   \n",
       "4                            4                   6              0.0   \n",
       "\n",
       "   Country_Denmark  Country_France  Country_Germany  Country_Greece  \\\n",
       "0              0.0             0.0              0.0             0.0   \n",
       "1              0.0             0.0              0.0             0.0   \n",
       "2              0.0             0.0              0.0             0.0   \n",
       "3              0.0             0.0              0.0             0.0   \n",
       "4              0.0             0.0              0.0             0.0   \n",
       "\n",
       "   Country_Italy  Country_Netherlands  Country_Spain  Country_Sweden  \\\n",
       "0            0.0                  0.0            0.0             0.0   \n",
       "1            0.0                  0.0            0.0             0.0   \n",
       "2            0.0                  0.0            0.0             0.0   \n",
       "3            0.0                  0.0            0.0             0.0   \n",
       "4            0.0                  0.0            0.0             0.0   \n",
       "\n",
       "   Country_Switzerland  \n",
       "0                  0.0  \n",
       "1                  0.0  \n",
       "2                  0.0  \n",
       "3                  0.0  \n",
       "4                  0.0  "
      ]
     },
     "execution_count": 44,
     "metadata": {},
     "output_type": "execute_result"
    }
   ],
   "source": [
    "# concatenate the dummy variable columns onto the original DataFrame (axis=0 means rows, axis=1 means columns)\n",
    "data = pd.concat([data1, country_dummies], axis=1)\n",
    "data.head()"
   ]
  },
  {
   "cell_type": "code",
   "execution_count": 22,
   "metadata": {
    "collapsed": false
   },
   "outputs": [
    {
     "data": {
      "text/plain": [
       "(19050, 17)"
      ]
     },
     "execution_count": 22,
     "metadata": {},
     "output_type": "execute_result"
    }
   ],
   "source": [
    "# print the shape of the DataFrame\n",
    "data.shape"
   ]
  },
  {
   "cell_type": "markdown",
   "metadata": {},
   "source": [
    "There are 19050 observations"
   ]
  },
  {
   "cell_type": "code",
   "execution_count": 51,
   "metadata": {
    "collapsed": false
   },
   "outputs": [
    {
     "data": {
      "text/html": [
       "<div>\n",
       "<table border=\"1\" class=\"dataframe\">\n",
       "  <thead>\n",
       "    <tr style=\"text-align: right;\">\n",
       "      <th></th>\n",
       "      <th>Female</th>\n",
       "      <th>Age</th>\n",
       "      <th>Years_of_education</th>\n",
       "      <th>Body_Mass_Index</th>\n",
       "      <th>Body_Mass_Index_categorized</th>\n",
       "      <th>Income_percentiles</th>\n",
       "    </tr>\n",
       "  </thead>\n",
       "  <tbody>\n",
       "    <tr>\n",
       "      <th>count</th>\n",
       "      <td>19050.000000</td>\n",
       "      <td>19050.000000</td>\n",
       "      <td>19050.000000</td>\n",
       "      <td>19050.000000</td>\n",
       "      <td>19050.000000</td>\n",
       "      <td>19050.000000</td>\n",
       "    </tr>\n",
       "    <tr>\n",
       "      <th>mean</th>\n",
       "      <td>0.544042</td>\n",
       "      <td>64.813727</td>\n",
       "      <td>10.432336</td>\n",
       "      <td>26.370163</td>\n",
       "      <td>2.754121</td>\n",
       "      <td>5.562100</td>\n",
       "    </tr>\n",
       "    <tr>\n",
       "      <th>std</th>\n",
       "      <td>0.498070</td>\n",
       "      <td>10.674345</td>\n",
       "      <td>4.381017</td>\n",
       "      <td>4.349791</td>\n",
       "      <td>0.749483</td>\n",
       "      <td>2.875303</td>\n",
       "    </tr>\n",
       "    <tr>\n",
       "      <th>min</th>\n",
       "      <td>0.000000</td>\n",
       "      <td>32.000000</td>\n",
       "      <td>0.000000</td>\n",
       "      <td>12.480000</td>\n",
       "      <td>1.000000</td>\n",
       "      <td>1.000000</td>\n",
       "    </tr>\n",
       "    <tr>\n",
       "      <th>25%</th>\n",
       "      <td>0.000000</td>\n",
       "      <td>56.300000</td>\n",
       "      <td>7.000000</td>\n",
       "      <td>23.502500</td>\n",
       "      <td>2.000000</td>\n",
       "      <td>3.000000</td>\n",
       "    </tr>\n",
       "    <tr>\n",
       "      <th>50%</th>\n",
       "      <td>1.000000</td>\n",
       "      <td>63.300000</td>\n",
       "      <td>11.000000</td>\n",
       "      <td>25.880000</td>\n",
       "      <td>3.000000</td>\n",
       "      <td>6.000000</td>\n",
       "    </tr>\n",
       "    <tr>\n",
       "      <th>75%</th>\n",
       "      <td>1.000000</td>\n",
       "      <td>72.400000</td>\n",
       "      <td>13.000000</td>\n",
       "      <td>28.680000</td>\n",
       "      <td>3.000000</td>\n",
       "      <td>8.000000</td>\n",
       "    </tr>\n",
       "    <tr>\n",
       "      <th>max</th>\n",
       "      <td>1.000000</td>\n",
       "      <td>104.300000</td>\n",
       "      <td>25.000000</td>\n",
       "      <td>69.920000</td>\n",
       "      <td>4.000000</td>\n",
       "      <td>10.000000</td>\n",
       "    </tr>\n",
       "  </tbody>\n",
       "</table>\n",
       "</div>"
      ],
      "text/plain": [
       "             Female           Age  Years_of_education  Body_Mass_Index  \\\n",
       "count  19050.000000  19050.000000        19050.000000     19050.000000   \n",
       "mean       0.544042     64.813727           10.432336        26.370163   \n",
       "std        0.498070     10.674345            4.381017         4.349791   \n",
       "min        0.000000     32.000000            0.000000        12.480000   \n",
       "25%        0.000000     56.300000            7.000000        23.502500   \n",
       "50%        1.000000     63.300000           11.000000        25.880000   \n",
       "75%        1.000000     72.400000           13.000000        28.680000   \n",
       "max        1.000000    104.300000           25.000000        69.920000   \n",
       "\n",
       "       Body_Mass_Index_categorized  Income_percentiles  \n",
       "count                 19050.000000        19050.000000  \n",
       "mean                      2.754121            5.562100  \n",
       "std                       0.749483            2.875303  \n",
       "min                       1.000000            1.000000  \n",
       "25%                       2.000000            3.000000  \n",
       "50%                       3.000000            6.000000  \n",
       "75%                       3.000000            8.000000  \n",
       "max                       4.000000           10.000000  "
      ]
     },
     "execution_count": 51,
     "metadata": {},
     "output_type": "execute_result"
    }
   ],
   "source": [
    "data1.describe()"
   ]
  },
  {
   "cell_type": "code",
   "execution_count": 78,
   "metadata": {
    "collapsed": false,
    "scrolled": true
   },
   "outputs": [],
   "source": [
    "#Creating boxplot\n",
    "\n",
    "import numpy as np\n",
    "# list with BMIs in category 1,2,3,4\n",
    "cat1 = []\n",
    "cat2 = []\n",
    "cat3 = []\n",
    "cat4 = []\n",
    "#condition\n",
    "cat1 = data['Body_Mass_Index'].where(data['Body_Mass_Index_categorized']==1,)\n",
    "cat2 = data['Body_Mass_Index'].where(data['Body_Mass_Index_categorized']==2,)\n",
    "cat3 = data['Body_Mass_Index'].where(data['Body_Mass_Index_categorized']==3,)\n",
    "cat4 = data['Body_Mass_Index'].where(data['Body_Mass_Index_categorized']==4,)\n",
    "#deleting NAN\n",
    "cat1 = cat1[~np.isnan(cat1)]\n",
    "cat2 = cat2[~np.isnan(cat2)]\n",
    "cat3 = cat3[~np.isnan(cat3)]\n",
    "cat4 = cat4[~np.isnan(cat4)]"
   ]
  },
  {
   "cell_type": "code",
   "execution_count": 79,
   "metadata": {
    "collapsed": false
   },
   "outputs": [],
   "source": [
    "data_to_plot = [cat1,cat2,cat3,cat4]"
   ]
  },
  {
   "cell_type": "code",
   "execution_count": 76,
   "metadata": {
    "collapsed": true
   },
   "outputs": [],
   "source": [
    "import matplotlib as mpl \n",
    "import matplotlib.pyplot as plt "
   ]
  },
  {
   "cell_type": "code",
   "execution_count": 89,
   "metadata": {
    "collapsed": false
   },
   "outputs": [
    {
     "data": {
      "image/png": "[encoded data removed]",
      "text/plain": [
       "<matplotlib.figure.Figure at 0x11a8d6a0>"
      ]
     },
     "metadata": {},
     "output_type": "display_data"
    }
   ],
   "source": [
    "# Create a figure instance\n",
    "fig = plt.figure(1, figsize=(9, 6))\n",
    "\n",
    "# Create an axes instance\n",
    "ax = fig.add_subplot(111)\n",
    "\n",
    "# Create the boxplot\n",
    "bp = ax.boxplot(data_to_plot)\n",
    "\n",
    "fig.suptitle('BMI and correspondent categories', fontsize=14, fontweight='bold')\n",
    "ax.set_xticklabels(['Underweight', 'Normal', 'Overweight', 'Obese'])\n",
    "ax.set_ylabel('Body Mass Index', fontsize=11)\n",
    "\n",
    "# Remove top axes and right axes ticks\n",
    "ax.get_xaxis().tick_bottom()\n",
    "ax.get_yaxis().tick_left()"
   ]
  },
  {
   "cell_type": "code",
   "execution_count": 92,
   "metadata": {
    "collapsed": false
   },
   "outputs": [
    {
     "data": {
      "image/png": "[encoded data removed]",
      "text/plain": [
       "<matplotlib.figure.Figure at 0x3de084e0>"
      ]
     },
     "metadata": {},
     "output_type": "display_data"
    }
   ],
   "source": [
    "# visualize the relationship between the features and the response using scatterplots\n",
    "fig2 = data.plot(kind='scatter', x='Years_of_education', y='Body_Mass_Index')"
   ]
  },
  {
   "cell_type": "code",
   "execution_count": 50,
   "metadata": {
    "collapsed": false
   },
   "outputs": [
    {
     "name": "stdout",
     "output_type": "stream",
     "text": [
      "                            OLS Regression Results                            \n",
      "==============================================================================\n",
      "Dep. Variable:        Body_Mass_Index   R-squared:                       0.046\n",
      "Model:                            OLS   Adj. R-squared:                  0.045\n",
      "Method:                 Least Squares   F-statistic:                     65.09\n",
      "Date:                Sun, 15 Jan 2017   Prob (F-statistic):          5.03e-181\n",
      "Time:                        17:42:05   Log-Likelihood:                -54591.\n",
      "No. Observations:               19050   AIC:                         1.092e+05\n",
      "Df Residuals:                   19035   BIC:                         1.093e+05\n",
      "Df Model:                          14                                         \n",
      "Covariance Type:            nonrobust                                         \n",
      "=======================================================================================\n",
      "                          coef    std err          t      P>|t|      [95.0% Conf. Int.]\n",
      "---------------------------------------------------------------------------------------\n",
      "Intercept              31.1153      0.302    103.178      0.000        30.524    31.706\n",
      "Years_of_education     -0.1450      0.008    -17.413      0.000        -0.161    -0.129\n",
      "Female                 -0.9465      0.063    -15.101      0.000        -1.069    -0.824\n",
      "Age                    -0.0293      0.003     -9.492      0.000        -0.035    -0.023\n",
      "Income_percentiles     -0.0380      0.011     -3.387      0.001        -0.060    -0.016\n",
      "Country_Belgium        -0.5765      0.187     -3.080      0.002        -0.943    -0.210\n",
      "Country_Denmark        -0.9420      0.198     -4.770      0.000        -1.329    -0.555\n",
      "Country_France         -1.0407      0.186     -5.581      0.000        -1.406    -0.675\n",
      "Country_Germany         0.0273      0.190      0.144      0.886        -0.344     0.399\n",
      "Country_Greece         -0.1417      0.177     -0.801      0.423        -0.488     0.205\n",
      "Country_Italy          -0.7915      0.190     -4.165      0.000        -1.164    -0.419\n",
      "Country_Netherlands    -0.8933      0.191     -4.665      0.000        -1.269    -0.518\n",
      "Country_Spain           0.0640      0.205      0.312      0.755        -0.339     0.467\n",
      "Country_Sweden         -0.9882      0.189     -5.225      0.000        -1.359    -0.618\n",
      "Country_Switzerland    -1.6356      0.211     -7.745      0.000        -2.050    -1.222\n",
      "==============================================================================\n",
      "Omnibus:                     4312.899   Durbin-Watson:                   1.895\n",
      "Prob(Omnibus):                  0.000   Jarque-Bera (JB):            15191.551\n",
      "Skew:                           1.118   Prob(JB):                         0.00\n",
      "Kurtosis:                       6.760   Cond. No.                     1.19e+03\n",
      "==============================================================================\n",
      "\n",
      "Warnings:\n",
      "[1] Standard Errors assume that the covariance matrix of the errors is correctly specified.\n",
      "[2] The condition number is large, 1.19e+03. This might indicate that there are\n",
      "strong multicollinearity or other numerical problems.\n"
     ]
    }
   ],
   "source": [
    "lm = smf.ols(formula='Body_Mass_Index ~ Years_of_education + Female + Age + Income_percentiles + Country_Belgium + Country_Denmark +Country_France +Country_Germany +Country_Greece +Country_Italy +Country_Netherlands +Country_Spain +Country_Sweden +Country_Switzerland' , data=data).fit()\n",
    "\n",
    "print(lm.summary())"
   ]
  },
  {
   "cell_type": "code",
   "execution_count": null,
   "metadata": {
    "collapsed": true
   },
   "outputs": [],
   "source": []
  }
 ],
 "metadata": {
  "anaconda-cloud": {},
  "kernelspec": {
   "display_name": "Python [default]",
   "language": "python",
   "name": "python2"
  },
  "language_info": {
   "codemirror_mode": {
    "name": "ipython",
    "version": 2
   },
   "file_extension": ".py",
   "mimetype": "text/x-python",
   "name": "python",
   "nbconvert_exporter": "python",
   "pygments_lexer": "ipython2",
   "version": "2.7.12"
  }
 },
 "nbformat": 4,
 "nbformat_minor": 1
}
